{
  "nbformat": 4,
  "nbformat_minor": 0,
  "metadata": {
    "colab": {
      "provenance": []
    },
    "kernelspec": {
      "name": "python3",
      "display_name": "Python 3"
    },
    "language_info": {
      "name": "python"
    }
  },
  "cells": [
    {
      "cell_type": "markdown",
      "source": [
        "1. phone_number = \"+62801-0029-9000\"\n",
        "  \n",
        "  Gantikan +62 dengan 0 dan hilangkan tanda -."
      ],
      "metadata": {
        "id": "3uwPp0ZOJRkX"
      }
    },
    {
      "cell_type": "code",
      "source": [
        "phone_number = \"+62801-0029-9000\"\n",
        "phone_number.replace(\"+62\", \"0\").replace(\"-\", \"\")"
      ],
      "metadata": {
        "colab": {
          "base_uri": "https://localhost:8080/",
          "height": 35
        },
        "id": "jFX_NBvRJla5",
        "outputId": "c9ca1c0f-bfb3-4175-89c0-8d27928be9c1"
      },
      "execution_count": 1,
      "outputs": [
        {
          "output_type": "execute_result",
          "data": {
            "text/plain": [
              "'080100299000'"
            ],
            "application/vnd.google.colaboratory.intrinsic+json": {
              "type": "string"
            }
          },
          "metadata": {},
          "execution_count": 1
        }
      ]
    },
    {
      "cell_type": "markdown",
      "source": [
        "2. num_list = [12,14,[16,20,30]]\n",
        "\n",
        "  Dari list di atas\n",
        "*   Ambil angka 14\n",
        "*   Ambil angka 16, 20, 30\n",
        "*   Ambil angka 20\n",
        "\n",
        "\n",
        "\n",
        "\n",
        "\n"
      ],
      "metadata": {
        "id": "M7KDlTOeKA45"
      }
    },
    {
      "cell_type": "code",
      "source": [
        "num_list = [12,14,[16,20,30]]\n",
        "\n",
        "print(num_list[1])\n",
        "print(num_list[2][0:])\n",
        "print(num_list[2][1])"
      ],
      "metadata": {
        "colab": {
          "base_uri": "https://localhost:8080/"
        },
        "id": "ZbdHkhigJ3ht",
        "outputId": "4bdba849-0b63-4132-9d2f-4197afb21044"
      },
      "execution_count": 3,
      "outputs": [
        {
          "output_type": "stream",
          "name": "stdout",
          "text": [
            "14\n",
            "[16, 20, 30]\n",
            "20\n"
          ]
        }
      ]
    },
    {
      "cell_type": "markdown",
      "source": [
        "3. numbers = [2, 3, 6, 20, 22]\n",
        "\n",
        " * Dari list di atas hitung selisih nilai tertinggi dengan nilai terendah\n",
        " * Hitung total nilai dari list\n",
        " * Ambil value ke 2 hingga ke 4\n",
        " * Masukkan value baru ---> angka 50 ke dalam list\n",
        "\n"
      ],
      "metadata": {
        "id": "M5mEk3mvK5sc"
      }
    },
    {
      "cell_type": "code",
      "source": [
        "numbers = [2, 3, 6, 20, 22]\n",
        "\n",
        "print(max(numbers) - min(numbers))\n",
        "print(sum(numbers))\n",
        "print(numbers[1:4])\n",
        "numbers.append(50)\n",
        "numbers"
      ],
      "metadata": {
        "colab": {
          "base_uri": "https://localhost:8080/"
        },
        "id": "VIE-k6TYKz8l",
        "outputId": "4fe04673-e1a7-46ab-b0fc-2aac6d36a1ce"
      },
      "execution_count": 4,
      "outputs": [
        {
          "output_type": "stream",
          "name": "stdout",
          "text": [
            "20\n",
            "53\n",
            "[3, 6, 20]\n"
          ]
        },
        {
          "output_type": "execute_result",
          "data": {
            "text/plain": [
              "[2, 3, 6, 20, 22, 50]"
            ]
          },
          "metadata": {},
          "execution_count": 4
        }
      ]
    },
    {
      "cell_type": "markdown",
      "source": [
        "4. Buatlah sebuah dictionary dari key-value berikut\n",
        "\n",
        "  {'brand': ['Samsung', 'Dell', 'Apple'],\n",
        "\n",
        " 'stock': ['27', '20', '10'],\n",
        "\n",
        " 'type': ['PC', 'Laptop', 'Tablet']}"
      ],
      "metadata": {
        "id": "usizWU3YLdEK"
      }
    },
    {
      "cell_type": "code",
      "source": [
        "devices = {\n",
        "    \"brand\": [\"Samsung\", \"Dell\", \"Apple\"],\n",
        "    \"stock\": [\"27\", \"20\", \"10\"],\n",
        "    \"type\": [\"PC\", \"Laptop\", \"Tablet\"]\n",
        "}\n",
        "\n",
        "devices"
      ],
      "metadata": {
        "colab": {
          "base_uri": "https://localhost:8080/"
        },
        "id": "_HrD5l8kLcPw",
        "outputId": "206b2d05-ce2b-41cb-fc59-14c1a75d1bf5"
      },
      "execution_count": 5,
      "outputs": [
        {
          "output_type": "execute_result",
          "data": {
            "text/plain": [
              "{'brand': ['Samsung', 'Dell', 'Apple'],\n",
              " 'stock': ['27', '20', '10'],\n",
              " 'type': ['PC', 'Laptop', 'Tablet']}"
            ]
          },
          "metadata": {},
          "execution_count": 5
        }
      ]
    },
    {
      "cell_type": "markdown",
      "source": [
        "5. Dari dictionary di bawah\n",
        "* Ambil semua value\n",
        "* Ambil value ke 2 dari key Color"
      ],
      "metadata": {
        "id": "X6ggDRjwOCgA"
      }
    },
    {
      "cell_type": "code",
      "source": [
        "fruits_dict = {\n",
        "    \"Fruit\": [\"Mango\", \"Banana\"],\n",
        "    \"Color\": [\"Blue\", \"Red\"],\n",
        "    \"Quantity\": [10, 25]\n",
        "}\n",
        "\n",
        "print(fruits_dict[\"Quantity\"])\n",
        "print(fruits_dict[\"Color\"][1])"
      ],
      "metadata": {
        "colab": {
          "base_uri": "https://localhost:8080/"
        },
        "id": "biah9BdtLzd1",
        "outputId": "584b1dc8-e831-4d86-8b4b-e3eb1519b9b5"
      },
      "execution_count": 6,
      "outputs": [
        {
          "output_type": "stream",
          "name": "stdout",
          "text": [
            "[10, 25]\n",
            "Red\n"
          ]
        }
      ]
    },
    {
      "cell_type": "markdown",
      "source": [
        "6. Dari dictionary di bawah\n",
        "* Update value dari key nama menjadi ['Arya', 'Yusup']\n",
        "* Update value dari key age, 19 ---> 22"
      ],
      "metadata": {
        "id": "mN_NxLWsOjkV"
      }
    },
    {
      "cell_type": "code",
      "source": [
        "students = {\n",
        "    \"name\": [\"budi\", \"jessica\"],\n",
        "    \"age\": [19, 24]\n",
        "}\n",
        "\n",
        "students[\"name\"] = [\"arya\", \"yusup\"]\n",
        "students[\"age\"][0] = 22\n",
        "\n",
        "students"
      ],
      "metadata": {
        "colab": {
          "base_uri": "https://localhost:8080/"
        },
        "id": "SyK1fVQKOflk",
        "outputId": "2ffc00ee-0606-43b9-83e7-858d10f3c045"
      },
      "execution_count": 7,
      "outputs": [
        {
          "output_type": "execute_result",
          "data": {
            "text/plain": [
              "{'name': ['arya', 'yusup'], 'age': [22, 24]}"
            ]
          },
          "metadata": {},
          "execution_count": 7
        }
      ]
    },
    {
      "cell_type": "markdown",
      "source": [
        "7. Dari dictionary di bawah\n",
        "* Tambahkan Amar ke key name\n",
        "* Tambahkan key dan value {\"gender\": [\"male\", \"female\"]}"
      ],
      "metadata": {
        "id": "k6LOW_Q8PafM"
      }
    },
    {
      "cell_type": "code",
      "source": [
        "students = {\n",
        "    \"name\": [\"budi\", \"jessica\"],\n",
        "    \"age\": [19, 24]\n",
        "}\n",
        "\n",
        "students[\"name\"].append(\"amar\")\n",
        "students.update({\"gender\": [\"male\", \"female\"]})\n",
        "\n",
        "students"
      ],
      "metadata": {
        "colab": {
          "base_uri": "https://localhost:8080/"
        },
        "id": "5H43RyzMO-iS",
        "outputId": "37875f4d-3c65-4b54-dd58-35a9fd33a1cd"
      },
      "execution_count": 8,
      "outputs": [
        {
          "output_type": "execute_result",
          "data": {
            "text/plain": [
              "{'name': ['budi', 'jessica', 'amar'],\n",
              " 'age': [19, 24],\n",
              " 'gender': ['male', 'female']}"
            ]
          },
          "metadata": {},
          "execution_count": 8
        }
      ]
    },
    {
      "cell_type": "markdown",
      "source": [
        "8. Dari dictionary di bawah\n",
        "* Hapus Budi key name\n",
        "* Hapus key age dari dictionary"
      ],
      "metadata": {
        "id": "HLK-T0KNQALF"
      }
    },
    {
      "cell_type": "code",
      "source": [
        "students = {\n",
        "    \"name\": [\"budi\", \"jessica\"],\n",
        "    \"age\": [19, 24]\n",
        "}\n",
        "\n",
        "students[\"name\"].remove(\"budi\")\n",
        "del students[\"age\"]\n",
        "\n",
        "students"
      ],
      "metadata": {
        "colab": {
          "base_uri": "https://localhost:8080/"
        },
        "id": "I6vmCBmvPyPd",
        "outputId": "28f629a4-d247-42c0-c12b-115e2d5e4115"
      },
      "execution_count": 9,
      "outputs": [
        {
          "output_type": "execute_result",
          "data": {
            "text/plain": [
              "{'name': ['jessica']}"
            ]
          },
          "metadata": {},
          "execution_count": 9
        }
      ]
    },
    {
      "cell_type": "code",
      "source": [],
      "metadata": {
        "id": "y0Np9nulQOy_"
      },
      "execution_count": null,
      "outputs": []
    }
  ]
}