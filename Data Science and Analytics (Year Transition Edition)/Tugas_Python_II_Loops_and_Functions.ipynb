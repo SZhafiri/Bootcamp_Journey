{
  "nbformat": 4,
  "nbformat_minor": 0,
  "metadata": {
    "colab": {
      "provenance": []
    },
    "kernelspec": {
      "name": "python3",
      "display_name": "Python 3"
    },
    "language_info": {
      "name": "python"
    }
  },
  "cells": [
    {
      "cell_type": "markdown",
      "source": [
        "1. Dari list berikut\n",
        "\n",
        "  numbers = [4, 5, 10, 20, 40, 60, 80]\n",
        "\n",
        "  Buat list baru \"new_list\" yang terdiri dari angka yang lebih besar dari 10"
      ],
      "metadata": {
        "id": "PGyWkf42p6QS"
      }
    },
    {
      "cell_type": "code",
      "source": [
        "numbers = [4, 5, 10, 20, 40, 60, 80]\n",
        "\n",
        "new_list = []\n",
        "for n in numbers:\n",
        "  if n > 10:\n",
        "    new_list.append(n)\n",
        "\n",
        "print(new_list)"
      ],
      "metadata": {
        "colab": {
          "base_uri": "https://localhost:8080/"
        },
        "id": "a4b2DCpnqWVy",
        "outputId": "8cf1a32a-8b1d-463b-b886-dac84a69286a"
      },
      "execution_count": null,
      "outputs": [
        {
          "output_type": "stream",
          "name": "stdout",
          "text": [
            "[20, 40, 60, 80]\n"
          ]
        }
      ]
    },
    {
      "cell_type": "markdown",
      "source": [
        "2. Buatlah sebuah fungsi untuk mencari luas sebuah lingkaran. Gunakan r sebagai input di parameter"
      ],
      "metadata": {
        "id": "Q00TAsNzrIJV"
      }
    },
    {
      "cell_type": "code",
      "source": [
        "def circle_area(r):\n",
        "  pi = 3.14\n",
        "  area = pi * (r**2)\n",
        "  return area"
      ],
      "metadata": {
        "id": "gLlX153GrHvH"
      },
      "execution_count": null,
      "outputs": []
    },
    {
      "cell_type": "code",
      "source": [
        "print(circle_area(10))\n",
        "print(circle_area(4))"
      ],
      "metadata": {
        "colab": {
          "base_uri": "https://localhost:8080/"
        },
        "id": "c3N_PTBzqxQR",
        "outputId": "60205b26-bbcc-45d6-ec37-1d49b4763907"
      },
      "execution_count": null,
      "outputs": [
        {
          "output_type": "stream",
          "name": "stdout",
          "text": [
            "314.0\n",
            "50.24\n"
          ]
        }
      ]
    },
    {
      "cell_type": "markdown",
      "source": [
        "3. Buatlah sebuah fungsi untuk menambahkan dua buah angka (a dan b) dan print:\n",
        "  - Penjumlahan dari kedua angka\n",
        "  - Perkalian dari kedua angka\n",
        "  - Angka tertinggi"
      ],
      "metadata": {
        "id": "jFfz6CHXsdLt"
      }
    },
    {
      "cell_type": "code",
      "source": [
        "def angka(a, b):\n",
        "  jumlah = a + b\n",
        "  perkalian = a * b\n",
        "  tertinggi = max(a, b)\n",
        "\n",
        "  print(f\"{a} + {b} = {jumlah}\")\n",
        "  print(f\"{a} * {b} = {perkalian}\")\n",
        "  print(f\"Angka tertinggi adalah {tertinggi}\")"
      ],
      "metadata": {
        "id": "BUXSFtlmr1LE"
      },
      "execution_count": null,
      "outputs": []
    },
    {
      "cell_type": "code",
      "source": [
        "angka(3, 5)"
      ],
      "metadata": {
        "colab": {
          "base_uri": "https://localhost:8080/"
        },
        "id": "vJYTYrETtFDI",
        "outputId": "f464df34-0e30-4ab2-e8e8-f96b46443b4e"
      },
      "execution_count": null,
      "outputs": [
        {
          "output_type": "stream",
          "name": "stdout",
          "text": [
            "3 + 5 = 8\n",
            "3 * 5 = 15\n",
            "Angka tertinggi adalah 5\n"
          ]
        }
      ]
    },
    {
      "cell_type": "markdown",
      "source": [
        "4. Simulasi pesanan kasir"
      ],
      "metadata": {
        "id": "j-rpzT3oukvu"
      }
    },
    {
      "cell_type": "code",
      "source": [
        "menus = [\n",
        "    {\n",
        "        \"name\": \"Ayam Goreng\",\n",
        "        \"price\": 10000\n",
        "    },\n",
        "    {\n",
        "        \"name\": \"Nasi Putih\",\n",
        "        \"price\": 5000\n",
        "    },\n",
        "    {\n",
        "        \"name\": \"Urap\",\n",
        "        \"price\": 8000\n",
        "    },\n",
        "    {\n",
        "        \"name\": \"Es Teh\",\n",
        "        \"price\": 4000\n",
        "    }\n",
        "]\n",
        "\n",
        "nama = input(\"Nama pelanggan: \")\n",
        "menu_dipesan = []\n",
        "menu_dipesan_all = []\n",
        "total_harga = 0\n",
        "\n",
        "for menu in menus:\n",
        "  menu_dipesan_all.append(menu[\"name\"])\n",
        "\n",
        "while True:\n",
        "  pesanan = input(\"Input pesanan di sini: \")\n",
        "  if pesanan in menu_dipesan_all:\n",
        "    menu_dipesan.append(pesanan)\n",
        "    for menu in menus:\n",
        "      if menu[\"name\"] == pesanan:\n",
        "        total_harga += menu[\"price\"]\n",
        "  else:\n",
        "    print(\"Maaf menu tidak tersedia\")\n",
        "\n",
        "  print(\"Apakah sudah selesai? 'Ya/Tidak'\")\n",
        "  done = input()\n",
        "\n",
        "  if done == \"Ya\":\n",
        "    break\n",
        "\n",
        "print(\"  \")\n",
        "print(f\"Pesanan customer {nama} adalah {', '.join(menu_dipesan)}\")\n",
        "print(f\"Jumlah yang harus dibayar untuk {len(menu_dipesan)} buah menu adalah Rp {total_harga}\")"
      ],
      "metadata": {
        "id": "_x8PvXIPtJZa",
        "colab": {
          "base_uri": "https://localhost:8080/"
        },
        "outputId": "6b5668c7-5ee9-45e4-90a6-595c7a3e123c"
      },
      "execution_count": 1,
      "outputs": [
        {
          "output_type": "stream",
          "name": "stdout",
          "text": [
            "Nama pelanggan: Syahman\n",
            "Input pesanan di sini: Nasi Putih\n",
            "Apakah sudah selesai? 'Ya/Tidak'\n",
            "Tidak\n",
            "Input pesanan di sini: Ayam Goreng\n",
            "Apakah sudah selesai? 'Ya/Tidak'\n",
            "Tidak\n",
            "Input pesanan di sini: Urap\n",
            "Apakah sudah selesai? 'Ya/Tidak'\n",
            "Tidak\n",
            "Input pesanan di sini: Ayam Goreng\n",
            "Apakah sudah selesai? 'Ya/Tidak'\n",
            "Tidak\n",
            "Input pesanan di sini: Es Teh\n",
            "Apakah sudah selesai? 'Ya/Tidak'\n",
            "Tidak\n",
            "Input pesanan di sini: Ayam Bakar\n",
            "Maaf menu tidak tersedia\n",
            "Apakah sudah selesai? 'Ya/Tidak'\n",
            "Ya\n",
            "  \n",
            "Pesanan customer Syahman adalah Nasi Putih, Ayam Goreng, Urap, Ayam Goreng, Es Teh\n",
            "Jumlah yang harus dibayar untuk 5 buah menu adalah Rp 37000\n"
          ]
        }
      ]
    },
    {
      "cell_type": "code",
      "source": [],
      "metadata": {
        "id": "SzsX3vv88Sxu"
      },
      "execution_count": null,
      "outputs": []
    }
  ]
}